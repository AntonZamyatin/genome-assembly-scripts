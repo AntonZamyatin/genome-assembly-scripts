{
 "cells": [
  {
   "cell_type": "code",
   "execution_count": 3,
   "id": "63546606-125e-410e-bb2e-c8bf607761e2",
   "metadata": {},
   "outputs": [],
   "source": [
    "from Bio import SeqIO\n",
    "import pandas as pd"
   ]
  },
  {
   "cell_type": "code",
   "execution_count": 72,
   "id": "45f97792-f2e2-4450-9ecc-28a86874579c",
   "metadata": {},
   "outputs": [],
   "source": [
    "def process_kraken_out(filename):\n",
    "    seqs = {'classified': [], 'id': [], 'taxa_id': [], 'len': [], 'cl_k_mer': [], 'cl_string': []}\n",
    "    with open(filename, 'r') as ifile:\n",
    "        for line in ifile:\n",
    "            tokens = line.split()\n",
    "            seqs['classified'].append(tokens[0])\n",
    "            seqs['id'].append(tokens[1])\n",
    "            seqs['taxa_id'].append(int(tokens[2]))\n",
    "            seqs['len'].append(int(tokens[3]))\n",
    "            cl_k_mer = 0\n",
    "            for pair in tokens[4:]:\n",
    "                pair = pair.split(':')\n",
    "                if pair[0] == tokens[2]:\n",
    "                    cl_k_mer += int(pair[1])\n",
    "            seqs['cl_k_mer'].append(cl_k_mer)\n",
    "            seqs['cl_string'].append('_'.join(tokens[4:]))\n",
    "            \n",
    "    return pd.DataFrame(seqs)"
   ]
  },
  {
   "cell_type": "code",
   "execution_count": 73,
   "id": "467ed422-25cb-4535-b35b-2650e41720be",
   "metadata": {},
   "outputs": [],
   "source": [
    "df = process_kraken_out('kraken_male.out')"
   ]
  },
  {
   "cell_type": "code",
   "execution_count": 74,
   "id": "1d731b77-703c-41ba-aac4-c669db49472b",
   "metadata": {},
   "outputs": [],
   "source": [
    "df['ratio'] = df['cl_k_mer'] / df['len']"
   ]
  },
  {
   "cell_type": "code",
   "execution_count": 75,
   "id": "2872ceb3-5b56-4199-a849-7079fcd7528b",
   "metadata": {},
   "outputs": [
    {
     "data": {
      "text/plain": [
       "<AxesSubplot:>"
      ]
     },
     "execution_count": 75,
     "metadata": {},
     "output_type": "execute_result"
    },
    {
     "data": {
      "image/png": "[encoded data removed]",
      "text/plain": [
       "<Figure size 432x288 with 1 Axes>"
      ]
     },
     "metadata": {
      "needs_background": "light"
     },
     "output_type": "display_data"
    }
   ],
   "source": [
    "df.ratio.hist()"
   ]
  },
  {
   "cell_type": "code",
   "execution_count": 77,
   "id": "9ad481ff-532b-4613-842d-b409aba8ba1c",
   "metadata": {},
   "outputs": [
    {
     "data": {
      "text/plain": [
       "array([    0,  7165, 44542,  2759])"
      ]
     },
     "execution_count": 77,
     "metadata": {},
     "output_type": "execute_result"
    }
   ],
   "source": [
    "df[df['ratio'] > 0.8].taxa_id.unique()"
   ]
  },
  {
   "cell_type": "code",
   "execution_count": 62,
   "id": "e25037b9-c49e-462f-9579-024be497ea70",
   "metadata": {},
   "outputs": [
    {
     "data": {
      "text/html": [
       "<div>\n",
       "<style scoped>\n",
       "    .dataframe tbody tr th:only-of-type {\n",
       "        vertical-align: middle;\n",
       "    }\n",
       "\n",
       "    .dataframe tbody tr th {\n",
       "        vertical-align: top;\n",
       "    }\n",
       "\n",
       "    .dataframe thead th {\n",
       "        text-align: right;\n",
       "    }\n",
       "</style>\n",
       "<table border=\"1\" class=\"dataframe\">\n",
       "  <thead>\n",
       "    <tr style=\"text-align: right;\">\n",
       "      <th></th>\n",
       "      <th>classified</th>\n",
       "      <th>id</th>\n",
       "      <th>taxa</th>\n",
       "      <th>len</th>\n",
       "      <th>cl_k_mer</th>\n",
       "      <th>cl_string</th>\n",
       "      <th>ratio</th>\n",
       "    </tr>\n",
       "  </thead>\n",
       "  <tbody>\n",
       "    <tr>\n",
       "      <th>1243556</th>\n",
       "      <td>C</td>\n",
       "      <td>69379a9e-a4a2-4eda-9d0d-51af888dd6b4</td>\n",
       "      <td>36805</td>\n",
       "      <td>414</td>\n",
       "      <td>138</td>\n",
       "      <td>36805:3_0:8_36805:4_0:1_36805:5_0:32_36805:5_0...</td>\n",
       "      <td>0.333333</td>\n",
       "    </tr>\n",
       "  </tbody>\n",
       "</table>\n",
       "</div>"
      ],
      "text/plain": [
       "        classified                                    id   taxa  len  \\\n",
       "1243556          C  69379a9e-a4a2-4eda-9d0d-51af888dd6b4  36805  414   \n",
       "\n",
       "         cl_k_mer                                          cl_string     ratio  \n",
       "1243556       138  36805:3_0:8_36805:4_0:1_36805:5_0:32_36805:5_0...  0.333333  "
      ]
     },
     "execution_count": 62,
     "metadata": {},
     "output_type": "execute_result"
    }
   ],
   "source": [
    "df[(df['ratio'] > 0.2) & (df['taxa'] == 36805)]"
   ]
  },
  {
   "cell_type": "code",
   "execution_count": 56,
   "id": "8c1c9523-157a-4984-a44e-d546fbbc1a1c",
   "metadata": {},
   "outputs": [],
   "source": [
    "def get_read(filename, read_id):\n",
    "    for rec in SeqIO.parse(filename, 'fastq'):\n",
    "        if read_id in rec.description:\n",
    "            return str(rec.seq)"
   ]
  },
  {
   "cell_type": "code",
   "execution_count": 60,
   "id": "e6b89a2c-0067-42fe-a245-54c64edc3ff5",
   "metadata": {},
   "outputs": [
    {
     "name": "stdout",
     "output_type": "stream",
     "text": [
      "GTTAATACTTCGTTCAGTTGTATTGCGCAGGTCGATCGACTGGGTCAGTCAGGCGGTCGCACCCGCCGAGGCCGACTTCAGCCCCACCGATCCACAAATCGCCTTTCATCGCCTTCCATCGAACTGGGTTCGCAGCATCCCGGCGGACGCGATCATCATGCGTCAGAACTGGCTACGGGCGTACGACTTCACAACTGATCGCGGCGCCATGGCGCTCAGCGACTATGCTCGCTCGAACGACCCGTTCACGCGGGTCGGCCGACAGCAGAGTTGCTATCGATGTCTCAAGCGTCATCCGCGCCCCTCGCCCCGACAGCAATACGTAGC\n"
     ]
    }
   ],
   "source": [
    "print(get_read('../female2_fc1_fc2.fq', '08bc1e56-a910-4e14-a26b-1f061f6527eb'))"
   ]
  },
  {
   "cell_type": "code",
   "execution_count": 1,
   "id": "379ce655-7ac9-4461-81cf-e0e25b2798f4",
   "metadata": {},
   "outputs": [
    {
     "name": "stderr",
     "output_type": "stream",
     "text": [
      "/GWSPH/groups/cbi/Users/azamyatin/miniconda3/lib/python3.9/site-packages/ete3-3.1.2-py3.7.egg/ete3/evol/parser/codemlparser.py:221: SyntaxWarning: \"is\" with a literal. Did you mean \"==\"?\n",
      "/GWSPH/groups/cbi/Users/azamyatin/miniconda3/lib/python3.9/site-packages/ete3-3.1.2-py3.7.egg/ete3/evol/parser/codemlparser.py:221: SyntaxWarning: \"is\" with a literal. Did you mean \"==\"?\n"
     ]
    }
   ],
   "source": [
    "import csv\n",
    "from ete3 import NCBITaxa\n",
    "import pandas as pd\n",
    "from Bio import SeqIO"
   ]
  },
  {
   "cell_type": "code",
   "execution_count": 17,
   "id": "60f4971a-d987-4ad2-a67e-009856de7592",
   "metadata": {},
   "outputs": [],
   "source": [
    "desired_ranks = ['superkingdom', 'kingdom'] #, 'phylum', 'class', 'order', 'family', 'genus', 'species']"
   ]
  },
  {
   "cell_type": "code",
   "execution_count": 7,
   "id": "2677911e-b4f2-438b-9c89-2e1d656a036b",
   "metadata": {},
   "outputs": [],
   "source": [
    "ncbi = NCBITaxa()"
   ]
  },
  {
   "cell_type": "code",
   "execution_count": 9,
   "id": "dd11e864-b287-47a7-a1c9-e3d05ebdd29b",
   "metadata": {},
   "outputs": [],
   "source": [
    "def get_desired_ranks(taxid, desired_ranks):\n",
    "    lineage = ncbi.get_lineage(taxid)   \n",
    "    names = ncbi.get_taxid_translator(lineage)\n",
    "    lineage2ranks = ncbi.get_rank(names)\n",
    "    ranks2lineage = dict((rank,taxid) for (taxid, rank) in lineage2ranks.items())\n",
    "    return{'{}_id'.format(rank): ranks2lineage.get(rank, '<not present>') for rank in desired_ranks}"
   ]
  },
  {
   "cell_type": "code",
   "execution_count": null,
   "id": "7a60c5d2-b0f5-4a92-bc74-19f0720e378f",
   "metadata": {
    "collapsed": true,
    "jupyter": {
     "outputs_hidden": true
    },
    "tags": []
   },
   "outputs": [],
   "source": [
    "kingdoms = {0: \"unclassified\", 119065: \"Bacteria\", 131567: 'unclassified', 1: 'unclassified'}\n",
    "taxonomy = {0: [\"NA\"] * 8,\n",
    "            119065: [\"Bacteria\"] + ['NA'] * 7}\n",
    "desired_ranks = ['superkingdom', 'kingdom', 'phylum', 'class', 'order', 'family', 'genus', 'species']\n",
    "for taxid in df['taxa_id']:\n",
    "    if taxid != 0 and taxid not in taxonomy.keys():\n",
    "        ranks = get_desired_ranks(taxid, desired_ranks)\n",
    "        taxonomy[taxid] = []\n",
    "        for key, rank in ranks.items():\n",
    "            if rank != '<not present>':\n",
    "                taxonomy[taxid].append(list(ncbi.get_taxid_translator([rank]).values())[0])\n",
    "            else:\n",
    "                taxonomy[taxid].append('NA')"
   ]
  },
  {
   "cell_type": "code",
   "execution_count": 79,
   "id": "db713110-dfcc-48a6-821c-287177790cad",
   "metadata": {},
   "outputs": [],
   "source": [
    "df['superkingdom'] = [taxonomy[taxid][0] for taxid in df['taxa_id']]\n",
    "df['kingdom'] = [taxonomy[taxid][1] for taxid in df['taxa_id']]\n",
    "df['phylum'] = [taxonomy[taxid][2] for taxid in df['taxa_id']]\n",
    "df['class'] = [taxonomy[taxid][3] for taxid in df['taxa_id']]\n",
    "df['order'] = [taxonomy[taxid][4] for taxid in df['taxa_id']]\n",
    "df['family'] = [taxonomy[taxid][5] for taxid in df['taxa_id']]\n",
    "df['genus'] = [taxonomy[taxid][6] for taxid in df['taxa_id']]\n",
    "df['species'] = [taxonomy[taxid][7] for taxid in df['taxa_id']]"
   ]
  },
  {
   "cell_type": "code",
   "execution_count": 53,
   "id": "efcdad73-cc0f-4b25-b118-8176de1fd3b1",
   "metadata": {},
   "outputs": [],
   "source": [
    "df = df.drop('taxa', 1)"
   ]
  },
  {
   "cell_type": "markdown",
   "id": "5312123c-8668-45d8-9bf2-d2da55b2d132",
   "metadata": {},
   "source": [
    "# FEMALE"
   ]
  },
  {
   "cell_type": "code",
   "execution_count": 58,
   "id": "13d1ece1-6212-4f81-831a-936028df51b0",
   "metadata": {},
   "outputs": [
    {
     "data": {
      "text/plain": [
       "superkingdom\n",
       "Archaea           10\n",
       "Bacteria        2035\n",
       "Eukaryota    2529724\n",
       "NA             21093\n",
       "Viruses            3\n",
       "Name: classified, dtype: int64"
      ]
     },
     "execution_count": 58,
     "metadata": {},
     "output_type": "execute_result"
    }
   ],
   "source": [
    "df.groupby('superkingdom').agg('count')['classified']"
   ]
  },
  {
   "cell_type": "code",
   "execution_count": 69,
   "id": "4231c231-d6bd-4692-afc4-02f188898462",
   "metadata": {},
   "outputs": [
    {
     "data": {
      "text/plain": [
       "superkingdom\n",
       "Archaea             8582\n",
       "Bacteria         7773309\n",
       "Eukaryota    19770438497\n",
       "NA               9092742\n",
       "Viruses             1712\n",
       "Name: len, dtype: int64"
      ]
     },
     "execution_count": 69,
     "metadata": {},
     "output_type": "execute_result"
    }
   ],
   "source": [
    "df.groupby('superkingdom').agg('sum')['len']"
   ]
  },
  {
   "cell_type": "code",
   "execution_count": 86,
   "id": "ef945917-8244-4adb-8409-f73df0fa1303",
   "metadata": {},
   "outputs": [
    {
     "name": "stdout",
     "output_type": "stream",
     "text": [
      "99.91977640807484 0.08022359192516149\n"
     ]
    }
   ],
   "source": [
    "good = 2529724 + 21093\n",
    "cont = 10 + 2035 + 3\n",
    "answ = good/(good+cont) * 100\n",
    "print(answ, 100-answ)"
   ]
  },
  {
   "cell_type": "markdown",
   "id": "c16e3f1e-1d7e-4763-a874-cd88b37b5c9a",
   "metadata": {},
   "source": [
    "# MALE"
   ]
  },
  {
   "cell_type": "code",
   "execution_count": 80,
   "id": "9d9004b5-2416-4655-ae30-7d86c07fa2df",
   "metadata": {},
   "outputs": [
    {
     "data": {
      "text/plain": [
       "superkingdom\n",
       "Archaea           62\n",
       "Bacteria       24242\n",
       "Eukaryota    4398085\n",
       "NA             80867\n",
       "Viruses           19\n",
       "Name: classified, dtype: int64"
      ]
     },
     "execution_count": 80,
     "metadata": {},
     "output_type": "execute_result"
    }
   ],
   "source": [
    "df.groupby('superkingdom').agg('count')['classified']"
   ]
  },
  {
   "cell_type": "code",
   "execution_count": 81,
   "id": "9a45609b-0b82-4208-a973-f0962a0732e9",
   "metadata": {},
   "outputs": [
    {
     "data": {
      "text/plain": [
       "superkingdom\n",
       "Archaea            56503\n",
       "Bacteria        49845129\n",
       "Eukaryota    24233511790\n",
       "NA              38540760\n",
       "Viruses            26205\n",
       "Name: len, dtype: int64"
      ]
     },
     "execution_count": 81,
     "metadata": {},
     "output_type": "execute_result"
    }
   ],
   "source": [
    "df.groupby('superkingdom').agg('sum')['len']"
   ]
  },
  {
   "cell_type": "code",
   "execution_count": 87,
   "id": "9d4b9aad-640f-4d99-bf45-68b53c823ae7",
   "metadata": {},
   "outputs": [
    {
     "name": "stdout",
     "output_type": "stream",
     "text": [
      "99.45988197478502 0.54011802521498\n"
     ]
    }
   ],
   "source": [
    "good = 4398085 + 80867\n",
    "cont = 62 + 24242 + 19\n",
    "answ = good/(good+cont) * 100\n",
    "print(answ, 100-answ)"
   ]
  },
  {
   "cell_type": "code",
   "execution_count": 82,
   "id": "fc5f777d-7675-45c1-867d-b72159248973",
   "metadata": {},
   "outputs": [],
   "source": [
    "good_reads = set(df[df['superkingdom'].isin([\"Eukaryota\", 'NA'])].id)"
   ]
  },
  {
   "cell_type": "code",
   "execution_count": 83,
   "id": "9c7989b3-19dc-4af4-aae9-de3c17b3b513",
   "metadata": {},
   "outputs": [],
   "source": [
    "filtered_out = open('male_filtered_reads.fq', 'w')\n",
    "contaminants_out = open('male_contaminants_reads.fq', 'w')\n",
    "for rec in SeqIO.parse('../male22_fc1_fc2.fq', 'fastq'):\n",
    "    if rec.description.split()[0] in good_reads:\n",
    "        SeqIO.write(rec, filtered_out, 'fastq')\n",
    "    else:\n",
    "        SeqIO.write(rec, contaminants_out, 'fastq')\n",
    "filtered_out.close()\n",
    "contaminants_out.close()"
   ]
  },
  {
   "cell_type": "code",
   "execution_count": null,
   "id": "80a2443b-c03f-49ef-a002-431232e0cf98",
   "metadata": {},
   "outputs": [],
   "source": []
  }
 ],
 "metadata": {
  "kernelspec": {
   "display_name": "Python 3",
   "language": "python",
   "name": "python3"
  },
  "language_info": {
   "codemirror_mode": {
    "name": "ipython",
    "version": 3
   },
   "file_extension": ".py",
   "mimetype": "text/x-python",
   "name": "python",
   "nbconvert_exporter": "python",
   "pygments_lexer": "ipython3",
   "version": "3.9.1"
  }
 },
 "nbformat": 4,
 "nbformat_minor": 5
}
